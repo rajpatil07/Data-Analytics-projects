{
 "cells": [
  {
   "cell_type": "markdown",
   "id": "d0c024ee",
   "metadata": {
    "id": "d0c024ee"
   },
   "source": [
    "<img src=\"http://drive.google.com/uc?export=view&id=1JzM1Jig5KAOCvU4tIf2t66B3gd1uy1rG\" width=500px>\n",
    "\n",
    "Proprietary content. Â© Great Learning. All Rights Reserved. Unauthorized use or distribution prohibited."
   ]
  },
  {
   "cell_type": "markdown",
   "id": "b4d76878",
   "metadata": {
    "id": "b4d76878"
   },
   "source": [
    "### <font color=\"blue\">Implement a Simple banking Application that has the following features:</font>\n",
    "\n",
    "1. Creating a new account\n",
    "2. Depositing money to an account\n",
    "3. Withdrawing money from an account.  \n",
    "Also, handle the case where we have insufficient funds during withdrawal.\n"
   ]
  },
  {
   "cell_type": "code",
   "execution_count": 1,
   "id": "b10afac3",
   "metadata": {
    "executionInfo": {
     "elapsed": 13,
     "status": "ok",
     "timestamp": 1666965141201,
     "user": {
      "displayName": "Kiran N",
      "userId": "13118615263915881207"
     },
     "user_tz": -330
    },
    "id": "b10afac3"
   },
   "outputs": [],
   "source": [
    "# Accounts used as global variables with stores the account numbers with the respective amount in them\n",
    "# Pair in dcitionary : <account_number, amount>\n",
    "ACCOUNTS = dict()"
   ]
  },
  {
   "cell_type": "code",
   "execution_count": 2,
   "id": "318b1a5f",
   "metadata": {
    "executionInfo": {
     "elapsed": 11,
     "status": "ok",
     "timestamp": 1666965141201,
     "user": {
      "displayName": "Kiran N",
      "userId": "13118615263915881207"
     },
     "user_tz": -330
    },
    "id": "318b1a5f"
   },
   "outputs": [],
   "source": [
    "# These variables enumerate the available options in banking application\n",
    "NEW_ACCOUNT = 1\n",
    "DEPOSIT = 2\n",
    "WITHDRAW = 3\n",
    "SHOW_BALANCE = 4\n",
    "QUIT = 5"
   ]
  },
  {
   "cell_type": "code",
   "execution_count": 3,
   "id": "a4ed2e8e",
   "metadata": {
    "executionInfo": {
     "elapsed": 10,
     "status": "ok",
     "timestamp": 1666965141202,
     "user": {
      "displayName": "Kiran N",
      "userId": "13118615263915881207"
     },
     "user_tz": -330
    },
    "id": "a4ed2e8e"
   },
   "outputs": [],
   "source": [
    "def create_new_account(acc_no):\n",
    "  if acc_no in ACCOUNTS:\n",
    "    print(\"Account already exists\")\n",
    "  else:\n",
    "    ACCOUNTS[acc_no]=0\n",
    "    print(\"Account Created Successfully\")"
   ]
  },
  {
   "cell_type": "code",
   "execution_count": 4,
   "id": "5fb9090e",
   "metadata": {
    "executionInfo": {
     "elapsed": 10,
     "status": "ok",
     "timestamp": 1666965141202,
     "user": {
      "displayName": "Kiran N",
      "userId": "13118615263915881207"
     },
     "user_tz": -330
    },
    "id": "5fb9090e"
   },
   "outputs": [],
   "source": [
    "def withdraw(acc_no, amount):\n",
    "  if acc_no in ACCOUNTS:\n",
    "    if ACCOUNTS[acc_no] > amount:\n",
    "      ACCOUNTS[acc_no] = ACCOUNTS[acc_no] - amount\n",
    "      print('successfully debit')\n",
    "    else:\n",
    "      print('Insufficient balance!')\n",
    "  else:\n",
    "    print(\"Acc_no Doesn't exist\")"
   ]
  },
  {
   "cell_type": "code",
   "execution_count": 5,
   "id": "0223d2d2",
   "metadata": {
    "executionInfo": {
     "elapsed": 10,
     "status": "ok",
     "timestamp": 1666965141202,
     "user": {
      "displayName": "Kiran N",
      "userId": "13118615263915881207"
     },
     "user_tz": -330
    },
    "id": "0223d2d2"
   },
   "outputs": [],
   "source": [
    "def deposit(acc_no, amount):\n",
    "  if acc_no in ACCOUNTS:\n",
    "    ACCOUNTS[acc_no] = ACCOUNTS[acc_no] + amount\n",
    "    print('Successfully credit')\n",
    "  else:\n",
    "    print(\"Acc_no Doesn't exist\")"
   ]
  },
  {
   "cell_type": "code",
   "execution_count": 6,
   "id": "99035fa0",
   "metadata": {
    "executionInfo": {
     "elapsed": 9,
     "status": "ok",
     "timestamp": 1666965141202,
     "user": {
      "displayName": "Kiran N",
      "userId": "13118615263915881207"
     },
     "user_tz": -330
    },
    "id": "99035fa0"
   },
   "outputs": [],
   "source": [
    "def show_balance(acc_no):\n",
    "    if acc_no in ACCOUNTS:\n",
    "      print(ACCOUNTS[acc_no])\n",
    "    else:\n",
    "        print(\"Acc_no Doesn't exist\")"
   ]
  },
  {
   "cell_type": "code",
   "execution_count": 7,
   "id": "b9c85210",
   "metadata": {
    "executionInfo": {
     "elapsed": 10,
     "status": "ok",
     "timestamp": 1666965141203,
     "user": {
      "displayName": "Kiran N",
      "userId": "13118615263915881207"
     },
     "user_tz": -330
    },
    "id": "b9c85210"
   },
   "outputs": [],
   "source": [
    "def show_menu():\n",
    "    print(\"\\n1. New Account Opening\")\n",
    "    print(\"2. Deposit money to account\")\n",
    "    print(\"3. Withdraw money from account\")\n",
    "    print(\"4. Show balance\")\n",
    "    print(\"5. Quit\")"
   ]
  },
  {
   "cell_type": "markdown",
   "id": "04c64537",
   "metadata": {
    "id": "04c64537"
   },
   "source": [
    "#### Driver Code for running baning Application"
   ]
  },
  {
   "cell_type": "code",
   "execution_count": null,
   "id": "ced6f7d4",
   "metadata": {
    "colab": {
     "base_uri": "https://localhost:8080/",
     "height": 1000
    },
    "executionInfo": {
     "elapsed": 34779,
     "status": "error",
     "timestamp": 1666965392907,
     "user": {
      "displayName": "Kiran N",
      "userId": "13118615263915881207"
     },
     "user_tz": -330
    },
    "id": "ced6f7d4",
    "outputId": "b344a17d-8997-450f-ebe6-2d49f79f1ded"
   },
   "outputs": [
    {
     "name": "stdout",
     "output_type": "stream",
     "text": [
      "\n",
      "1. New Account Opening\n",
      "2. Deposit money to account\n",
      "3. Withdraw money from account\n",
      "4. Show balance\n",
      "5. Quit\n"
     ]
    }
   ],
   "source": [
    "if __name__ == \"__main__\":\n",
    "    while(True):\n",
    "        show_menu()\n",
    "        \n",
    "        choice = int(input('\\nEnter the operation to be performed : '))\n",
    "        \n",
    "        \n",
    "        if choice == NEW_ACCOUNT:\n",
    "            acc_number = input('\\nEnter account number for new account opening : ')\n",
    "            \n",
    "            create_new_account(acc_number)\n",
    "            \n",
    "        elif choice == DEPOSIT:\n",
    "            acc_number = input('\\nEnter the accout number for depositing money : ')\n",
    "            amount = int(input('Enter amount for depositing money : '))\n",
    "            \n",
    "            deposit(acc_number, amount)\n",
    "            \n",
    "        elif choice == WITHDRAW:\n",
    "            acc_number = input('\\nEnter the accout number for withdrawing money : ')\n",
    "            amount = int(input('Enter amount for withdrawing money : '))\n",
    "            \n",
    "            withdraw(acc_number, amount)\n",
    "            \n",
    "            \n",
    "        elif choice == SHOW_BALANCE:\n",
    "            acc_number = input('\\nEnter the accout number for showing account balance : ')\n",
    "            \n",
    "            show_balance(acc_number)\n",
    "            \n",
    "        elif choice == QUIT:\n",
    "            print(\"\\nThanks for banking with us\")\n",
    "            break"
   ]
  },
  {
   "cell_type": "code",
   "execution_count": null,
   "id": "bdb3c829",
   "metadata": {
    "executionInfo": {
     "elapsed": 2,
     "status": "aborted",
     "timestamp": 1666965392908,
     "user": {
      "displayName": "Kiran N",
      "userId": "13118615263915881207"
     },
     "user_tz": -330
    },
    "id": "bdb3c829"
   },
   "outputs": [],
   "source": []
  }
 ],
 "metadata": {
  "colab": {
   "collapsed_sections": [],
   "provenance": []
  },
  "kernelspec": {
   "display_name": "Python 3 (ipykernel)",
   "language": "python",
   "name": "python3"
  },
  "language_info": {
   "codemirror_mode": {
    "name": "ipython",
    "version": 3
   },
   "file_extension": ".py",
   "mimetype": "text/x-python",
   "name": "python",
   "nbconvert_exporter": "python",
   "pygments_lexer": "ipython3",
   "version": "3.9.12"
  }
 },
 "nbformat": 4,
 "nbformat_minor": 5
}
